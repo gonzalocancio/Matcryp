{
 "cells": [
  {
   "cell_type": "markdown",
   "id": "f6f65873-53ef-46c6-be6f-09ea017a9757",
   "metadata": {},
   "source": [
    "### In this jupyter notebook we will solve all the exercises (at least those that benefit from some coding and that I am capable of solving) from chapter 1 of the book: An Introduction to Mathematical Cryptography"
   ]
  },
  {
   "cell_type": "markdown",
   "id": "e47de757-1673-4437-bafc-ed5e1b8c5abe",
   "metadata": {},
   "source": [
    "#### 1.1. Build a cipher wheel as illustrated in Fig.1.1, but with an inner wheel that rotates, and use it to complete the following tasks. \n",
    "####  (a) Encrypt the following plaintext using a rotation of 11 clockwise.\n",
    " #### “A page of history is worth a volume of logic.”\n",
    " #### (b) Decrypt the following message, which was encrypted with a rotation of 7 clock\n",
    "#### wise.AOLYLHYLUVZLJYLAZILAALYAOHUAOLZLJYLAZAOHALCLYFIVKFNBLZZLZ\n",
    "####  (c) Decrypt the following message, which was encrypted by rotating 1 clockwise\n",
    " #### for the first letter, then 2 clockwise for the second letter, etc.\n",
    "####  XJHRFTNZHMZGAHIUETXZJNBWNUTRHEPOMDNBJMAUGORFAOIZOCC\n"
   ]
  },
  {
   "cell_type": "raw",
   "id": "04b87dee-97b0-4c04-8c93-b8cec9d62146",
   "metadata": {},
   "source": [
    "We create a python class called cypherwheel which is initialised with an integer which determines the shift."
   ]
  },
  {
   "cell_type": "code",
   "execution_count": 2,
   "id": "54f9e503-0cf6-47a1-b33f-f691775d80b5",
   "metadata": {},
   "outputs": [],
   "source": [
    "class CypherWheel:\n",
    "    def __init__(self, shift: int):\n",
    "        self.shift = shift % 26  # ensure shift is within 0-25\n",
    "\n",
    "    def encrypt(self, text: str) -> str:\n",
    "        return self._shift_text(text, self.shift)\n",
    "\n",
    "    def decrypt(self, text: str) -> str:\n",
    "        return self._shift_text(text, -self.shift)\n",
    "\n",
    "    def _shift_text(self, text: str, shift: int) -> str:\n",
    "        result = []\n",
    "        for char in text:\n",
    "            if char.isalpha():\n",
    "                base = ord('A') if char.isupper() else ord('a')\n",
    "                # Shift character and wrap around using modulo 26\n",
    "                new_char = chr((ord(char) - base + shift) % 26 + base)\n",
    "                result.append(new_char)\n",
    "            else:\n",
    "                # Leave non-alphabetic characters unchanged\n",
    "                result.append(char)\n",
    "        return ''.join(result)\n"
   ]
  },
  {
   "cell_type": "markdown",
   "id": "fe8537dc-b555-4d79-bd69-9682f469108a",
   "metadata": {},
   "source": [
    "Solution part a)"
   ]
  },
  {
   "cell_type": "code",
   "execution_count": 3,
   "id": "810aaf2f-3c6d-4a2f-803c-6647d6534214",
   "metadata": {},
   "outputs": [
    {
     "data": {
      "text/plain": [
       "'L alrp zq stdezcj td hzces l gzwfxp zq wzrtn.'"
      ]
     },
     "execution_count": 3,
     "metadata": {},
     "output_type": "execute_result"
    }
   ],
   "source": [
    "wheel11 = CypherWheel(11)\n",
    "wheel11.encrypt(\"A page of history is worth a volume of logic.\")"
   ]
  },
  {
   "cell_type": "markdown",
   "id": "dfb8b587-c96f-4830-96c4-c43883b3c7d0",
   "metadata": {},
   "source": [
    "Solution part b)"
   ]
  },
  {
   "cell_type": "code",
   "execution_count": 4,
   "id": "f2aa6251-f931-4fcb-a114-eaf34499f73c",
   "metadata": {},
   "outputs": [
    {
     "data": {
      "text/plain": [
       "'THEREARENOSECRETSBETTERTHANTHESECRETSTHATEVERYBODYGUESSES'"
      ]
     },
     "execution_count": 4,
     "metadata": {},
     "output_type": "execute_result"
    }
   ],
   "source": [
    "wheel7 = CypherWheel(7)\n",
    "wheel7.decrypt(\"AOLYLHYLUVZLJYLAZILAALYAOHUAOLZLJYLAZAOHALCLYFIVKFNBLZZLZ\")"
   ]
  },
  {
   "cell_type": "markdown",
   "id": "b803b64e-09ae-4804-8e31-cc03ef40d09c",
   "metadata": {},
   "source": [
    "Solution to part c)"
   ]
  },
  {
   "cell_type": "code",
   "execution_count": 6,
   "id": "15dd8b8e-70d0-4ffd-910b-2b5b71174e35",
   "metadata": {},
   "outputs": [
    {
     "name": "stdout",
     "output_type": "stream",
     "text": [
      "WHENANGRYCOUNTTENBEFOREYOUSPEAKIFVERYANGRYANHUNDRED\n"
     ]
    }
   ],
   "source": [
    "# The encrypted message\n",
    "ciphertext = \"XJHRFTNZHMZGAHIUETXZJNBWNUTRHEPOMDNBJMAUGORFAOIZOCC\"\n",
    "\n",
    "# Decrypt using variable shifts\n",
    "plaintext = \"\"\n",
    "for i, c in enumerate(ciphertext):\n",
    "    wheel = CypherWheel(i + 1)  # shift used in encryption\n",
    "    plaintext += wheel.decrypt(c)\n",
    "\n",
    "print(plaintext)"
   ]
  },
  {
   "cell_type": "markdown",
   "id": "6278e62c-4b3e-482a-9f0e-633ef2fd0962",
   "metadata": {},
   "source": [
    "####  1.2. Decrypt each of the following Caesar encryptions by trying the various possible shifts until you obtain readable text.\n",
    " ##### (a) LWKLQNWKDWLVKDOOQHYHUVHHDELOOERDUGORYHOBDVDWUHH\n",
    " ##### (b) UXENRBWXCUXENFQRLQJUCNABFQNWRCJUCNAJCRXWORWMB\n",
    " ##### (c) BGUTBMBGZTFHNLXMKTIPBMAVAXXLXTEPTRLEXTOXKHHFYHKMAXFHNLX"
   ]
  },
  {
   "cell_type": "markdown",
   "id": "7c7e7df9-b6d8-4038-8450-dfa5ce01c2f6",
   "metadata": {},
   "source": [
    "We solve only the first one."
   ]
  },
  {
   "cell_type": "code",
   "execution_count": 8,
   "id": "efdf3c03-eadc-4b7d-b8d8-77b2f8de7f63",
   "metadata": {},
   "outputs": [
    {
     "name": "stdout",
     "output_type": "stream",
     "text": [
      "KVJKPMVJCVKUJCNNPGXGTUGGCDKNNDQCTFNQXGNACUCVTGG\n",
      "JUIJOLUIBUJTIBMMOFWFSTFFBCJMMCPBSEMPWFMZBTBUSFF\n",
      "ITHINKTHATISHALLNEVERSEEABILLBOARDLOVELYASATREE\n",
      "HSGHMJSGZSHRGZKKMDUDQRDDZAHKKANZQCKNUDKXZRZSQDD\n",
      "GRFGLIRFYRGQFYJJLCTCPQCCYZGJJZMYPBJMTCJWYQYRPCC\n",
      "FQEFKHQEXQFPEXIIKBSBOPBBXYFIIYLXOAILSBIVXPXQOBB\n",
      "EPDEJGPDWPEODWHHJARANOAAWXEHHXKWNZHKRAHUWOWPNAA\n",
      "DOCDIFOCVODNCVGGIZQZMNZZVWDGGWJVMYGJQZGTVNVOMZZ\n",
      "CNBCHENBUNCMBUFFHYPYLMYYUVCFFVIULXFIPYFSUMUNLYY\n",
      "BMABGDMATMBLATEEGXOXKLXXTUBEEUHTKWEHOXERTLTMKXX\n",
      "ALZAFCLZSLAKZSDDFWNWJKWWSTADDTGSJVDGNWDQSKSLJWW\n",
      "ZKYZEBKYRKZJYRCCEVMVIJVVRSZCCSFRIUCFMVCPRJRKIVV\n",
      "YJXYDAJXQJYIXQBBDULUHIUUQRYBBREQHTBELUBOQIQJHUU\n",
      "XIWXCZIWPIXHWPAACTKTGHTTPQXAAQDPGSADKTANPHPIGTT\n",
      "WHVWBYHVOHWGVOZZBSJSFGSSOPWZZPCOFRZCJSZMOGOHFSS\n",
      "VGUVAXGUNGVFUNYYARIREFRRNOVYYOBNEQYBIRYLNFNGERR\n",
      "UFTUZWFTMFUETMXXZQHQDEQQMNUXXNAMDPXAHQXKMEMFDQQ\n",
      "TESTYVESLETDSLWWYPGPCDPPLMTWWMZLCOWZGPWJLDLECPP\n",
      "SDRSXUDRKDSCRKVVXOFOBCOOKLSVVLYKBNVYFOVIKCKDBOO\n",
      "RCQRWTCQJCRBQJUUWNENABNNJKRUUKXJAMUXENUHJBJCANN\n",
      "QBPQVSBPIBQAPITTVMDMZAMMIJQTTJWIZLTWDMTGIAIBZMM\n",
      "PAOPURAOHAPZOHSSULCLYZLLHIPSSIVHYKSVCLSFHZHAYLL\n",
      "OZNOTQZNGZOYNGRRTKBKXYKKGHORRHUGXJRUBKREGYGZXKK\n",
      "NYMNSPYMFYNXMFQQSJAJWXJJFGNQQGTFWIQTAJQDFXFYWJJ\n",
      "MXLMROXLEXMWLEPPRIZIVWIIEFMPPFSEVHPSZIPCEWEXVII\n",
      "LWKLQNWKDWLVKDOOQHYHUVHHDELOOERDUGORYHOBDVDWUHH\n"
     ]
    }
   ],
   "source": [
    "for i in range(26):\n",
    "    wheel = CypherWheel(i + 1)\n",
    "    print(wheel.decrypt(\"LWKLQNWKDWLVKDOOQHYHUVHHDELOOERDUGORYHOBDVDWUHH\"))"
   ]
  },
  {
   "cell_type": "markdown",
   "id": "9a47ab97-5ea3-41d9-a943-8884346df744",
   "metadata": {},
   "source": [
    "by inspection we see that the answer is the third element in the printed list"
   ]
  },
  {
   "cell_type": "code",
   "execution_count": 9,
   "id": "44cda193-618b-46dd-9b93-4495969f047c",
   "metadata": {},
   "outputs": [
    {
     "data": {
      "text/plain": [
       "'ITHINKTHATISHALLNEVERSEEABILLBOARDLOVELYASATREE'"
      ]
     },
     "execution_count": 9,
     "metadata": {},
     "output_type": "execute_result"
    }
   ],
   "source": [
    "wheel = CypherWheel(3)\n",
    "wheel.decrypt(\"LWKLQNWKDWLVKDOOQHYHUVHHDELOOERDUGORYHOBDVDWUHH\")"
   ]
  },
  {
   "cell_type": "markdown",
   "id": "0e23b548-0ce9-4501-988f-752f0d8ff744",
   "metadata": {},
   "source": [
    " #### 1.3. For this exercise, use the simple substitution table given in Table 1.11.\n",
    " ##### (a) Encrypt the plaintext message: The gold is hidden in the garden.\n",
    " ##### (b) Make a decryption table, that is, make a table in which the ciphertext alphabet is in order from A to Z and the plaintext alphabet is mixed up.\n",
    " ##### (c) Use your decryption table from (b) to decrypt the following message: IBXLX JVXIZ SLLDE VAQLL DEVAU QLB"
   ]
  },
  {
   "cell_type": "markdown",
   "id": "7e036ae6-a2c7-4879-b098-bc88c559391e",
   "metadata": {},
   "source": [
    "We solve the problem using two python dictionaries, one for encryption, which plays the rolw of the encryption table, and one for decryption, which plays the role of the decryption table that part b) asks to create."
   ]
  },
  {
   "cell_type": "code",
   "execution_count": 13,
   "id": "0218aecb-6245-471b-a653-17312bbf254c",
   "metadata": {},
   "outputs": [
    {
     "name": "stdout",
     "output_type": "stream",
     "text": [
      "{'A': 'S', 'B': 'C', 'C': 'J', 'D': 'A', 'E': 'X', 'F': 'U', 'G': 'F', 'H': 'B', 'I': 'Q', 'J': 'K', 'K': 'T', 'L': 'P', 'M': 'R', 'N': 'W', 'O': 'E', 'P': 'Z', 'Q': 'H', 'R': 'V', 'S': 'L', 'T': 'I', 'U': 'G', 'V': 'Y', 'W': 'D', 'X': 'N', 'Y': 'M', 'Z': 'O'}\n",
      "{'S': 'A', 'C': 'B', 'J': 'C', 'A': 'D', 'X': 'E', 'U': 'F', 'F': 'G', 'B': 'H', 'Q': 'I', 'K': 'J', 'T': 'K', 'P': 'L', 'R': 'M', 'W': 'N', 'E': 'O', 'Z': 'P', 'H': 'Q', 'V': 'R', 'L': 'S', 'I': 'T', 'G': 'U', 'Y': 'V', 'D': 'W', 'N': 'X', 'M': 'Y', 'O': 'Z'}\n"
     ]
    }
   ],
   "source": [
    "import string\n",
    "# Define plain and cipher letters in uppercase\n",
    "plain_letters = list(string.ascii_uppercase)\n",
    "cipher_letters = list(\"SCJAXUFBQKTPRWEZHVLIGYDNMO\")\n",
    "\n",
    "# Encryption dictionary: plain -> cipher\n",
    "encrypt_dict = dict(zip(plain_letters, cipher_letters))\n",
    "\n",
    "# Decryption dictionary: cipher -> plain\n",
    "decrypt_dict = {v: k for k, v in encrypt_dict.items()}\n",
    "print(encrypt_dict)\n",
    "print(decrypt_dict)"
   ]
  },
  {
   "cell_type": "markdown",
   "id": "9610f038-48ec-4a9d-9841-0284a0c62517",
   "metadata": {},
   "source": [
    "solution part a)"
   ]
  },
  {
   "cell_type": "code",
   "execution_count": 15,
   "id": "ce6664c8-a0ac-49ce-b4d4-1aaa4d670c23",
   "metadata": {},
   "outputs": [
    {
     "data": {
      "text/plain": [
       "'IBX FEPA QL BQAAXW QW IBX FSVAXW.'"
      ]
     },
     "execution_count": 15,
     "metadata": {},
     "output_type": "execute_result"
    }
   ],
   "source": [
    "# Message to encrypt\n",
    "message = \"The gold is hidden in the garden.\"\n",
    "\n",
    "# Encrypt the message\n",
    "encrypted_message = \"\"\n",
    "for char in message.upper():\n",
    "    if char in encrypt_dict:\n",
    "        encrypted_message += encrypt_dict[char]\n",
    "    else:\n",
    "        encrypted_message += char  # Keep spaces and punctuation\n",
    "encrypted_message"
   ]
  },
  {
   "cell_type": "markdown",
   "id": "73706d0c-c64b-4e96-9399-0defbe311361",
   "metadata": {},
   "source": [
    "solution to part c)"
   ]
  },
  {
   "cell_type": "code",
   "execution_count": 17,
   "id": "760344d5-4044-4be7-bdd3-2b9716aea194",
   "metadata": {},
   "outputs": [
    {
     "data": {
      "text/plain": [
       "'THESE CRETP ASSWO RDISS WORDF ISH'"
      ]
     },
     "execution_count": 17,
     "metadata": {},
     "output_type": "execute_result"
    }
   ],
   "source": [
    "cipher_text = \"IBXLX JVXIZ SLLDE VAQLL DEVAU QLB\"\n",
    "\n",
    "plain_text = \"\"\n",
    "\n",
    "for char in cipher_text:\n",
    "    if char in decrypt_dict:\n",
    "        plain_text += decrypt_dict[char]\n",
    "    else:\n",
    "        plain_text += char\n",
    "\n",
    "plain_text"
   ]
  },
  {
   "cell_type": "markdown",
   "id": "58a2da8f-0278-43d1-b623-59ba933480c9",
   "metadata": {},
   "source": [
    "####  1.4. Each of the following messages has been encrypted using a simple substitution cipher. Decrypt them. For your convenience, we have given you a frequency table and a list of the most common bigrams that appear in the ciphertext. "
   ]
  },
  {
   "cell_type": "markdown",
   "id": "faf1dffb-e955-481d-b883-07cd4f2859b6",
   "metadata": {},
   "source": [
    "We only solve part a)"
   ]
  },
  {
   "cell_type": "markdown",
   "id": "30b2aa71-3bfa-4af4-a9c5-84dca8188b1b",
   "metadata": {},
   "source": [
    " JNRZR BNIGI BJRGZ IZLQR OTDNJ GRIHT USDKR ZZWLG OIBTM NRGJN\n",
    " IJTZJ LZISJ NRSBL QVRSI ORIQT QDEKJ JNRQW GLOFN IJTZX QLFQL\n",
    " WBIMJ ITQXT HHTBL KUHQL JZKMM LZRNT OBIMI EURLW BLQZJ GKBJT\n",
    " QDIQS LWJNR OLGRI EZJGK ZRBGS MJLDG IMNZT OIHRK MOSOT QHIJL\n",
    " QBRJN IJJNT ZFIZL WIZTO MURZM RBTRZ ZKBNN LFRVR GIZFL KUHIM\n",
    " MRIGJ LJNRB GKHRT QJRUU RBJLW JNRZI TULGI EZLUK JRUST QZLUK\n",
    " EURFT JNLKJ JNRXR S"
   ]
  },
  {
   "cell_type": "markdown",
   "id": "bcd1920a-693f-42d8-b570-d7f9e7d1192b",
   "metadata": {},
   "source": [
    "Frequency table: "
   ]
  },
  {
   "cell_type": "code",
   "execution_count": 2,
   "id": "7f0cd10a-a2d9-4b66-9642-ebe907dd6d93",
   "metadata": {},
   "outputs": [],
   "source": [
    "freq_dict = {\n",
    "    'R': 33,\n",
    "    'J': 30,\n",
    "    'I': 27,\n",
    "    'L': 25,\n",
    "    'Z': 24,\n",
    "    'T': 20,\n",
    "    'N': 19,\n",
    "    'Q': 16,\n",
    "    'B': 15,\n",
    "    'G': 15,\n",
    "    'K': 13,\n",
    "    'U': 12,\n",
    "    'M': 12,\n",
    "    'O': 10,\n",
    "    'S': 9,\n",
    "    'H': 8,\n",
    "    'W': 7,\n",
    "    'F': 6,\n",
    "    'E': 5,\n",
    "    'D': 5,\n",
    "    'X': 3,\n",
    "    'V': 2\n",
    "}"
   ]
  },
  {
   "cell_type": "markdown",
   "id": "25dde9ef-09cb-42ef-904c-04c6b8f59f06",
   "metadata": {},
   "source": [
    " The most frequent bigrams are: JN (11 times), NR (8 times), TQ (6 times), and\n",
    " LW, RB, RZ,andJL (5 times each)"
   ]
  },
  {
   "cell_type": "markdown",
   "id": "dd3923bd-f8da-492c-af1e-753ad8eb0a61",
   "metadata": {},
   "source": [
    "Recall that the most common english letters are e, t, a, o, n in that order. And the most common english bigrams: th, he, an, re, er, in. We begin with the initial guess: R-> E, J-> T, N->H"
   ]
  },
  {
   "cell_type": "code",
   "execution_count": 3,
   "id": "bfe90287-4ac0-4dc5-8e8f-d4800a40044d",
   "metadata": {},
   "outputs": [
    {
     "data": {
      "text/plain": [
       "'THE-E -H--- -TE-- ----E ---HT -E--- ----E ----- ----- HE-TH -T--T ----T HE--- --E-- -E--- ----T THE-- ----H -T--- ----- ----T ----- ----- ----- T---- --EH- ----- --E-- ----T ---T- ----- --THE ---E- --T-- -E--- -T--- --H-- ---E- ----- ---T- --ETH -TTH- ----- ----- --E-- E--E- ---HH --E-E ----- ----- -E--T -THE- ---E- -TE-- E-T-- THE-- ----- ----- TE--- ----- --E-- TH--T THE-E -'"
      ]
     },
     "execution_count": 3,
     "metadata": {},
     "output_type": "execute_result"
    }
   ],
   "source": [
    "guess_dict = {'R': 'E', 'J': 'T', 'N': 'H'}\n",
    "ciphertext = \"JNRZR BNIGI BJRGZ IZLQR OTDNJ GRIHT USDKR ZZWLG OIBTM NRGJN IJTZJ LZISJ NRSBL QVRSI ORIQT QDEKJ JNRQW GLOFN IJTZX QLFQL WBIMJ ITQXT HHTBL KUHQL JZKMM LZRNT OBIMI EURLW BLQZJ GKBJT QDIQS LWJNR OLGRI EZJGK ZRBGS MJLDG IMNZT OIHRK MOSOT QHIJL QBRJN IJJNT ZFIZL WIZTO MURZM RBTRZ ZKBNN LFRVR GIZFL KUHIM MRIGJ LJNRB GKHRT QJRUU RBJLW JNRZI TULGI EZLUK JRUST QZLUK EURFT JNLKJ JNRXR S\"\n",
    "guess_text = \"\"\n",
    "for char in ciphertext:\n",
    "    if char in guess_dict:\n",
    "        guess_text += guess_dict[char]\n",
    "    elif char == ' ':\n",
    "        guess_text += char\n",
    "    else:\n",
    "        guess_text += '-'\n",
    "\n",
    "guess_text"
   ]
  },
  {
   "cell_type": "markdown",
   "id": "5fcc28cc-f69a-4957-b47a-20feb6fc07bf",
   "metadata": {},
   "source": [
    "The first word seems to be \"there\" or \"these\". Since it is the first word of the paragraph I make the initial guess that the letter should be \"s\", that is Z -> S. On the other hand, amongst the most frequent letters in english we still have a, o, n. We carry on guessing that I-> A, L->O. "
   ]
  },
  {
   "cell_type": "code",
   "execution_count": 4,
   "id": "3f9daa82-1164-4b69-b070-e2d37ed9400c",
   "metadata": {},
   "outputs": [
    {
     "data": {
      "text/plain": [
       "'THESE -HA-A -TE-S ASO-E ---HT -EA-- ----E SS-O- -A--- HE-TH AT-ST OSA-T HE--O --E-A -EA-- ----T THE-- -O--H AT-S- -O--O --A-T A---- ----O ----O TS--- OSEH- --A-A --EO- -O-ST ---T- --A-- O-THE -O-EA -ST-- SE--- -TO-- A-HS- -A-E- ----- --ATO --ETH ATTH- S-ASO -AS-- --ES- E--ES S--HH O-E-E -AS-O ---A- -EA-T OTHE- ---E- -TE-- E-TO- THESA --O-A -SO-- TE--- -SO-- --E-- THO-T THE-E -'"
      ]
     },
     "execution_count": 4,
     "metadata": {},
     "output_type": "execute_result"
    }
   ],
   "source": [
    "guess_dict = {'R': 'E', 'J': 'T', 'N': 'H', 'Z': 'S', 'L': 'O', 'I': 'A',}\n",
    "ciphertext = \"JNRZR BNIGI BJRGZ IZLQR OTDNJ GRIHT USDKR ZZWLG OIBTM NRGJN IJTZJ LZISJ NRSBL QVRSI ORIQT QDEKJ JNRQW GLOFN IJTZX QLFQL WBIMJ ITQXT HHTBL KUHQL JZKMM LZRNT OBIMI EURLW BLQZJ GKBJT QDIQS LWJNR OLGRI EZJGK ZRBGS MJLDG IMNZT OIHRK MOSOT QHIJL QBRJN IJJNT ZFIZL WIZTO MURZM RBTRZ ZKBNN LFRVR GIZFL KUHIM MRIGJ LJNRB GKHRT QJRUU RBJLW JNRZI TULGI EZLUK JRUST QZLUK EURFT JNLKJ JNRXR S\"\n",
    "guess_text = \"\"\n",
    "for char in ciphertext:\n",
    "    if char in guess_dict:\n",
    "        guess_text += guess_dict[char]\n",
    "    elif char == ' ':\n",
    "        guess_text += char\n",
    "    else:\n",
    "        guess_text += '-'\n",
    "\n",
    "guess_text"
   ]
  },
  {
   "cell_type": "markdown",
   "id": "a76443dc-3be0-4918-9ab5-f142179caf9d",
   "metadata": {},
   "source": [
    "The second word seems to be 'characters' so we make the guesses 'B' : 'C', 'G' : 'R'. Also we seem to have the fragment TH AT-ST OSA-T seems to say, that is to say. So we make the guesses 'T' : 'I', 'S' : 'Y',"
   ]
  },
  {
   "cell_type": "code",
   "execution_count": 6,
   "id": "6558ef99-364c-410a-92f6-211a72c0dec0",
   "metadata": {},
   "outputs": [
    {
     "data": {
      "text/plain": [
       "'THESE CHARA CTERS ASO-E -I-HT REA-I -Y--E SS-OR -ACI- HERTH ATIST OSAYT HEYCO --EYA -EA-I ----T THE-- RO--H ATIS- -O--O -CA-T AI--I --ICO ----O TS--- OSEHI -CA-A --EO- CO-ST R-CTI --A-Y O-THE -OREA -STR- SECRY -TO-R A-HSI -A-E- --Y-I --ATO -CETH ATTHI S-ASO -ASI- --ES- ECIES S-CHH O-E-E RAS-O ---A- -EART OTHEC R--EI -TE-- ECTO- THESA I-ORA -SO-- TE-YI -SO-- --E-I THO-T THE-E Y'"
      ]
     },
     "execution_count": 6,
     "metadata": {},
     "output_type": "execute_result"
    }
   ],
   "source": [
    "guess_dict = {'R': 'E', 'J': 'T', 'N': 'H', 'Z': 'S', 'L': 'O', 'I': 'A', 'B' : 'C', 'G' : 'R', 'T' : 'I', 'S' : 'Y',}\n",
    "ciphertext = \"JNRZR BNIGI BJRGZ IZLQR OTDNJ GRIHT USDKR ZZWLG OIBTM NRGJN IJTZJ LZISJ NRSBL QVRSI ORIQT QDEKJ JNRQW GLOFN IJTZX QLFQL WBIMJ ITQXT HHTBL KUHQL JZKMM LZRNT OBIMI EURLW BLQZJ GKBJT QDIQS LWJNR OLGRI EZJGK ZRBGS MJLDG IMNZT OIHRK MOSOT QHIJL QBRJN IJJNT ZFIZL WIZTO MURZM RBTRZ ZKBNN LFRVR GIZFL KUHIM MRIGJ LJNRB GKHRT QJRUU RBJLW JNRZI TULGI EZLUK JRUST QZLUK EURFT JNLKJ JNRXR S\"\n",
    "guess_text = \"\"\n",
    "for char in ciphertext:\n",
    "    if char in guess_dict:\n",
    "        guess_text += guess_dict[char]\n",
    "    elif char == ' ':\n",
    "        guess_text += char\n",
    "    else:\n",
    "        guess_text += '-'\n",
    "\n",
    "guess_text"
   ]
  },
  {
   "cell_type": "markdown",
   "id": "3a1b1132-1529-4836-ba9c-9ec8bf3aff37",
   "metadata": {},
   "source": [
    "The begining seems to say: \"these characters as one might readily guess\". So we make the guesses 'Q' : 'N', 'O': 'M', 'D' : 'G', 'H': 'D', 'U' : 'L', 'K': 'U',"
   ]
  },
  {
   "cell_type": "code",
   "execution_count": 9,
   "id": "6418534a-8139-406d-84d3-c5710d573c49",
   "metadata": {},
   "outputs": [
    {
     "data": {
      "text/plain": [
       "'THESE CHARA CTERS ASONE MIGHT READI LYGUE SS-OR MACI- HERTH ATIST OSAYT HEYCO N-EYA MEANI NG-UT THEN- ROM-H ATIS- NO-NO -CA-T AIN-I DDICO ULDNO TSU-- OSEHI MCA-A -LEO- CONST RUCTI NGANY O-THE MOREA -STRU SECRY -TOGR A-HSI MADEU -MYMI NDATO NCETH ATTHI S-ASO -ASIM -LES- ECIES SUCHH O-E-E RAS-O ULDA- -EART OTHEC RUDEI NTELL ECTO- THESA ILORA -SOLU TELYI NSOLU -LE-I THOUT THE-E Y'"
      ]
     },
     "execution_count": 9,
     "metadata": {},
     "output_type": "execute_result"
    }
   ],
   "source": [
    "guess_dict = {'R': 'E', 'J': 'T', 'N': 'H', 'Z': 'S', 'L': 'O', 'I': 'A', 'B' : 'C', 'G' : 'R', 'T' : 'I', 'S' : 'Y', 'Q' : 'N', 'O': 'M', 'D' : 'G', 'H': 'D', 'U' : 'L', 'K': 'U',}\n",
    "ciphertext = \"JNRZR BNIGI BJRGZ IZLQR OTDNJ GRIHT USDKR ZZWLG OIBTM NRGJN IJTZJ LZISJ NRSBL QVRSI ORIQT QDEKJ JNRQW GLOFN IJTZX QLFQL WBIMJ ITQXT HHTBL KUHQL JZKMM LZRNT OBIMI EURLW BLQZJ GKBJT QDIQS LWJNR OLGRI EZJGK ZRBGS MJLDG IMNZT OIHRK MOSOT QHIJL QBRJN IJJNT ZFIZL WIZTO MURZM RBTRZ ZKBNN LFRVR GIZFL KUHIM MRIGJ LJNRB GKHRT QJRUU RBJLW JNRZI TULGI EZLUK JRUST QZLUK EURFT JNLKJ JNRXR S\"\n",
    "guess_text = \"\"\n",
    "for char in ciphertext:\n",
    "    if char in guess_dict:\n",
    "        guess_text += guess_dict[char]\n",
    "    elif char == ' ':\n",
    "        guess_text += char\n",
    "    else:\n",
    "        guess_text += '-'\n",
    "\n",
    "guess_text"
   ]
  },
  {
   "cell_type": "markdown",
   "id": "fa434030-6464-4ea8-94fe-ccacf46b19b8",
   "metadata": {},
   "source": [
    "We only have a few letters left, amongst the remaing wholes, the first letter that we lack seems to be an 'f' to make the word 'form', the second is a 'p' to make the word 'cipher', the third one is a 'v', to make the word 'convey'. So we have 'M': 'P', 'W': 'F', 'V': 'V'"
   ]
  },
  {
   "cell_type": "code",
   "execution_count": 10,
   "id": "c4eeb425-26fa-4cd4-971f-cecaedb76a32",
   "metadata": {},
   "outputs": [
    {
     "data": {
      "text/plain": [
       "'THESE CHARA CTERS ASONE MIGHT READI LYGUE SSFOR MACIP HERTH ATIST OSAYT HEYCO NVEYA MEANI NG-UT THENF ROM-H ATIS- NO-NO FCAPT AIN-I DDICO ULDNO TSUPP OSEHI MCAPA -LEOF CONST RUCTI NGANY OFTHE MOREA -STRU SECRY PTOGR APHSI MADEU PMYMI NDATO NCETH ATTHI S-ASO FASIM PLESP ECIES SUCHH O-EVE RAS-O ULDAP PEART OTHEC RUDEI NTELL ECTOF THESA ILORA -SOLU TELYI NSOLU -LE-I THOUT THE-E Y'"
      ]
     },
     "execution_count": 10,
     "metadata": {},
     "output_type": "execute_result"
    }
   ],
   "source": [
    "guess_dict = {'R': 'E', 'J': 'T', 'N': 'H', 'Z': 'S', 'L': 'O', 'I': 'A', 'B' : 'C', 'G' : 'R', 'T' : 'I', 'S' : 'Y', 'Q' : 'N', 'O': 'M', 'D' : 'G', 'H': 'D', 'U' : 'L', 'K': 'U', 'M': 'P', 'W': 'F', 'V': 'V',}\n",
    "ciphertext = \"JNRZR BNIGI BJRGZ IZLQR OTDNJ GRIHT USDKR ZZWLG OIBTM NRGJN IJTZJ LZISJ NRSBL QVRSI ORIQT QDEKJ JNRQW GLOFN IJTZX QLFQL WBIMJ ITQXT HHTBL KUHQL JZKMM LZRNT OBIMI EURLW BLQZJ GKBJT QDIQS LWJNR OLGRI EZJGK ZRBGS MJLDG IMNZT OIHRK MOSOT QHIJL QBRJN IJJNT ZFIZL WIZTO MURZM RBTRZ ZKBNN LFRVR GIZFL KUHIM MRIGJ LJNRB GKHRT QJRUU RBJLW JNRZI TULGI EZLUK JRUST QZLUK EURFT JNLKJ JNRXR S\"\n",
    "guess_text = \"\"\n",
    "for char in ciphertext:\n",
    "    if char in guess_dict:\n",
    "        guess_text += guess_dict[char]\n",
    "    elif char == ' ':\n",
    "        guess_text += char\n",
    "    else:\n",
    "        guess_text += '-'\n",
    "\n",
    "guess_text"
   ]
  },
  {
   "cell_type": "markdown",
   "id": "ffc74def-4fed-49d7-8e8b-7637daa9b39c",
   "metadata": {},
   "source": [
    "Finally, the first wholes that we have seem to be filled with the letters 'b', 'w', 'k', to make the sentence 'but then from what is known'. We make the substitutions 'F': 'W', 'E': 'B', 'X': 'K',"
   ]
  },
  {
   "cell_type": "code",
   "execution_count": 11,
   "id": "0a1f6134-0871-43b7-9bf1-2a9316778096",
   "metadata": {},
   "outputs": [
    {
     "data": {
      "text/plain": [
       "'THESE CHARA CTERS ASONE MIGHT READI LYGUE SSFOR MACIP HERTH ATIST OSAYT HEYCO NVEYA MEANI NGBUT THENF ROMWH ATISK NOWNO FCAPT AINKI DDICO ULDNO TSUPP OSEHI MCAPA BLEOF CONST RUCTI NGANY OFTHE MOREA BSTRU SECRY PTOGR APHSI MADEU PMYMI NDATO NCETH ATTHI SWASO FASIM PLESP ECIES SUCHH OWEVE RASWO ULDAP PEART OTHEC RUDEI NTELL ECTOF THESA ILORA BSOLU TELYI NSOLU BLEWI THOUT THEKE Y'"
      ]
     },
     "execution_count": 11,
     "metadata": {},
     "output_type": "execute_result"
    }
   ],
   "source": [
    "guess_dict = {'R': 'E', 'J': 'T', 'N': 'H', 'Z': 'S', 'L': 'O', 'I': 'A', 'B' : 'C', 'G' : 'R', 'T' : 'I', 'S' : 'Y', 'Q' : 'N', 'O': 'M', 'D' : 'G', 'H': 'D', 'U' : 'L', 'K': 'U', 'M': 'P', 'W': 'F', 'V': 'V', 'F': 'W', 'E': 'B', 'X': 'K'}\n",
    "ciphertext = \"JNRZR BNIGI BJRGZ IZLQR OTDNJ GRIHT USDKR ZZWLG OIBTM NRGJN IJTZJ LZISJ NRSBL QVRSI ORIQT QDEKJ JNRQW GLOFN IJTZX QLFQL WBIMJ ITQXT HHTBL KUHQL JZKMM LZRNT OBIMI EURLW BLQZJ GKBJT QDIQS LWJNR OLGRI EZJGK ZRBGS MJLDG IMNZT OIHRK MOSOT QHIJL QBRJN IJJNT ZFIZL WIZTO MURZM RBTRZ ZKBNN LFRVR GIZFL KUHIM MRIGJ LJNRB GKHRT QJRUU RBJLW JNRZI TULGI EZLUK JRUST QZLUK EURFT JNLKJ JNRXR S\"\n",
    "guess_text = \"\"\n",
    "for char in ciphertext:\n",
    "    if char in guess_dict:\n",
    "        guess_text += guess_dict[char]\n",
    "    elif char == ' ':\n",
    "        guess_text += char\n",
    "    else:\n",
    "        guess_text += '-'\n",
    "\n",
    "guess_text"
   ]
  },
  {
   "cell_type": "markdown",
   "id": "5e11d699-cd7b-4c6c-a86f-f7e7e849e5d4",
   "metadata": {},
   "source": [
    "## Section 1.2"
   ]
  },
  {
   "cell_type": "markdown",
   "id": "c291f413-074f-4d34-9792-13c26acb1449",
   "metadata": {},
   "source": [
    " 1.12. The method for solving au+bv =gcd(a,b) described in Sect.1.2 is somewhat\n",
    " inefficient. This exercise describes a method to compute u and v that is well suited\n",
    " for computer implementation. In particular, it uses very little storage.\n",
    " The following algorithm computes the greatest common divisor g of\n",
    " the positive integers a and b, together with a solution (u,v) in integers to the\n",
    " equation au +bv =gcd(a,b).\n",
    " 1. Set u =1, g =a, x=0, and y =b\n",
    " 2. If y =0, set v =(g−au)/b and return the values (g,u,v)\n",
    " 3. Divide g by y with remainder, g = qy+t,with 0 ≤ t<y\n",
    " 4. Set s =u−qx\n",
    " 5. Set u =x and g =y\n",
    " 6. Set x =s and y =t\n",
    " 7. Go To Step (2)\n",
    "    \n",
    " (b) Implement the above algorithm on a computer using the computer language of\n",
    " your choice.\n",
    " \n",
    " (c) Use your program to compute g =gcd(a,b) and integer solutions to the equa\n",
    "tion au +bv = g for the following pairs (a,b).\n",
    " (i) (527,1258), \n",
    " (ii) (228,1056), \n",
    " (iii) (163961,167181),  \n",
    " (iv) (3892394,239847)\n",
    " \n",
    " (d) What happens to your program if b = 0? Fix the program so that it deals with\n",
    " this case correctly.\n"
   ]
  },
  {
   "cell_type": "markdown",
   "id": "a05a00c1-bc29-4aa0-90d2-7d92027a9899",
   "metadata": {},
   "source": [
    "we solve b) and d) at the same time. The problem with b = 0 is that we cannot compute v, since it is computed dividing by b. If b = 0 and a is distinct form 0, then the gcd of a and b is a, gcd(a,b) = b. It is clear then that u = 1, v = 0. We handle this isolated case at the beginning of the program"
   ]
  },
  {
   "cell_type": "code",
   "execution_count": 11,
   "id": "fdf32bd3-d354-482e-be4d-eb509ed199e0",
   "metadata": {},
   "outputs": [],
   "source": [
    "def extended_gcd(a, b):\n",
    "    if a == 0 and b == 0:\n",
    "        raise ValueError(\"gcd is undefined for a = 0 and b = 0\")\n",
    "    \n",
    "    u, g = 1, a\n",
    "    x, y = 0, b\n",
    "    if y == 0:\n",
    "        return a, 1, 0\n",
    "        \n",
    "    while y != 0:\n",
    "        q = g // y\n",
    "        t = g % y\n",
    "        s = u - q * x\n",
    "\n",
    "        # Update variables for next iteration\n",
    "        u, g = x, y\n",
    "        x, y = s, t\n",
    "\n",
    "    v = (g - a * u) // b  # Compute v from the equation au + bv = g\n",
    "    return g, u, v"
   ]
  },
  {
   "cell_type": "code",
   "execution_count": null,
   "id": "9b127a4b-cec9-4bf0-9890-5a400faeb7f1",
   "metadata": {},
   "outputs": [],
   "source": [
    "We use the defined function to solve c)"
   ]
  },
  {
   "cell_type": "code",
   "execution_count": 3,
   "id": "b3773681-48ec-4a92-bfb1-37e187a84d09",
   "metadata": {},
   "outputs": [
    {
     "name": "stdout",
     "output_type": "stream",
     "text": [
      "(17, -31, 13)\n",
      "(12, -37, 8)\n",
      "(7, 4517, -4430)\n",
      "(1, 59789, -970295)\n"
     ]
    }
   ],
   "source": [
    "print(extended_gcd(527,1258))\n",
    "print(extended_gcd(228,1056))\n",
    "print(extended_gcd(163961,167181))\n",
    "print(extended_gcd(3892394,239847))"
   ]
  },
  {
   "cell_type": "code",
   "execution_count": 4,
   "id": "d1b1e7f8-8377-467d-877a-8a74b07cd35b",
   "metadata": {},
   "outputs": [
    {
     "data": {
      "text/plain": [
       "17"
      ]
     },
     "execution_count": 4,
     "metadata": {},
     "output_type": "execute_result"
    }
   ],
   "source": [
    "-31*527 + 13*1258"
   ]
  },
  {
   "cell_type": "code",
   "execution_count": 5,
   "id": "bdf04342-ec79-4163-8fe2-5f6783e7863a",
   "metadata": {},
   "outputs": [
    {
     "data": {
      "text/plain": [
       "12"
      ]
     },
     "execution_count": 5,
     "metadata": {},
     "output_type": "execute_result"
    }
   ],
   "source": [
    "-37*228 + 8*1056"
   ]
  },
  {
   "cell_type": "code",
   "execution_count": 6,
   "id": "c6417551-c92f-483f-9758-179a47c498fa",
   "metadata": {},
   "outputs": [
    {
     "data": {
      "text/plain": [
       "7"
      ]
     },
     "execution_count": 6,
     "metadata": {},
     "output_type": "execute_result"
    }
   ],
   "source": [
    "4517*163961 - 4430*167181"
   ]
  },
  {
   "cell_type": "code",
   "execution_count": 7,
   "id": "0691c7d2-74c6-4663-89d9-1c23c9452d0d",
   "metadata": {},
   "outputs": [
    {
     "data": {
      "text/plain": [
       "1"
      ]
     },
     "execution_count": 7,
     "metadata": {},
     "output_type": "execute_result"
    }
   ],
   "source": [
    "59789*3892394 -970295*239847"
   ]
  },
  {
   "cell_type": "markdown",
   "id": "7375b1d4-b846-4b7b-b508-a219b4100c7e",
   "metadata": {},
   "source": [
    "**1.16.** Write out the following tables for $\\mathbb{Z}/m\\mathbb{Z}$ and $(\\mathbb{Z}/m\\mathbb{Z})^*$, as we did in Figs. 1.4 and 1.5.\n",
    "\n",
    "(a) Make addition and multiplication tables for $\\mathbb{Z}/3\\mathbb{Z}$.\n",
    "\n",
    "(b) Make addition and multiplication tables for $\\mathbb{Z}/6\\mathbb{Z}$.\n",
    "\n",
    "(c) Make a multiplication table for the unit group $(\\mathbb{Z}/9\\mathbb{Z})$.\n",
    "\n",
    "(d) Make a multiplication table for the unit group $(\\mathbb{Z}/16\\mathbb{Z})$."
   ]
  },
  {
   "cell_type": "markdown",
   "id": "887b3e19-4299-4b71-948f-cf44e95cb35b",
   "metadata": {},
   "source": [
    "We create two functions that have as input an integer n, and return a python dictionary containing the information of the sum and multiplication table modulo n. "
   ]
  },
  {
   "cell_type": "code",
   "execution_count": 14,
   "id": "39ecf9dd-be92-4388-aac7-0c531fdb1fd2",
   "metadata": {},
   "outputs": [],
   "source": [
    "import pandas as pd\n",
    "from IPython.display import display\n",
    "\n",
    "def sum_table_integers_modulo(n):\n",
    "    table = {(i, j): (i + j) % n for i in range(n) for j in range(n)}\n",
    "    return table\n",
    "def mult_table_integers_modulo(n):\n",
    "    table = {(i, j): (i * j) % n for i in range(n) for j in range(n)}\n",
    "    return table\n"
   ]
  },
  {
   "cell_type": "markdown",
   "id": "f3996619-d316-4430-80c0-56d5dcae37ab",
   "metadata": {},
   "source": [
    "Solution to a)"
   ]
  },
  {
   "cell_type": "code",
   "execution_count": 7,
   "id": "88b4212c-725b-4279-ab46-8c78bc71f958",
   "metadata": {},
   "outputs": [
    {
     "data": {
      "text/html": [
       "<div>\n",
       "<style scoped>\n",
       "    .dataframe tbody tr th:only-of-type {\n",
       "        vertical-align: middle;\n",
       "    }\n",
       "\n",
       "    .dataframe tbody tr th {\n",
       "        vertical-align: top;\n",
       "    }\n",
       "\n",
       "    .dataframe thead th {\n",
       "        text-align: right;\n",
       "    }\n",
       "</style>\n",
       "<table border=\"1\" class=\"dataframe\">\n",
       "  <thead>\n",
       "    <tr style=\"text-align: right;\">\n",
       "      <th></th>\n",
       "      <th>0</th>\n",
       "      <th>1</th>\n",
       "      <th>2</th>\n",
       "    </tr>\n",
       "    <tr>\n",
       "      <th>i\\j</th>\n",
       "      <th></th>\n",
       "      <th></th>\n",
       "      <th></th>\n",
       "    </tr>\n",
       "  </thead>\n",
       "  <tbody>\n",
       "    <tr>\n",
       "      <th>0</th>\n",
       "      <td>0</td>\n",
       "      <td>1</td>\n",
       "      <td>2</td>\n",
       "    </tr>\n",
       "    <tr>\n",
       "      <th>1</th>\n",
       "      <td>1</td>\n",
       "      <td>2</td>\n",
       "      <td>0</td>\n",
       "    </tr>\n",
       "    <tr>\n",
       "      <th>2</th>\n",
       "      <td>2</td>\n",
       "      <td>0</td>\n",
       "      <td>1</td>\n",
       "    </tr>\n",
       "  </tbody>\n",
       "</table>\n",
       "</div>"
      ],
      "text/plain": [
       "     0  1  2\n",
       "i\\j         \n",
       "0    0  1  2\n",
       "1    1  2  0\n",
       "2    2  0  1"
      ]
     },
     "metadata": {},
     "output_type": "display_data"
    }
   ],
   "source": [
    "n = 3\n",
    "table_dict = sum_table_integers_modulo(n)\n",
    "\n",
    "df = pd.DataFrame([[table_dict[(i, j)] for j in range(n)] for i in range(n)],\n",
    "                  index=[f\"{i}\" for i in range(n)],\n",
    "                  columns=[f\"{j}\" for j in range(n)])\n",
    "\n",
    "df.index.name = \"i\\\\j\"\n",
    "\n",
    "display(df)"
   ]
  },
  {
   "cell_type": "code",
   "execution_count": 8,
   "id": "39e77718-b4d3-4e5a-b7b7-4284f1e22977",
   "metadata": {},
   "outputs": [
    {
     "data": {
      "text/html": [
       "<div>\n",
       "<style scoped>\n",
       "    .dataframe tbody tr th:only-of-type {\n",
       "        vertical-align: middle;\n",
       "    }\n",
       "\n",
       "    .dataframe tbody tr th {\n",
       "        vertical-align: top;\n",
       "    }\n",
       "\n",
       "    .dataframe thead th {\n",
       "        text-align: right;\n",
       "    }\n",
       "</style>\n",
       "<table border=\"1\" class=\"dataframe\">\n",
       "  <thead>\n",
       "    <tr style=\"text-align: right;\">\n",
       "      <th></th>\n",
       "      <th>0</th>\n",
       "      <th>1</th>\n",
       "      <th>2</th>\n",
       "    </tr>\n",
       "    <tr>\n",
       "      <th>i\\j</th>\n",
       "      <th></th>\n",
       "      <th></th>\n",
       "      <th></th>\n",
       "    </tr>\n",
       "  </thead>\n",
       "  <tbody>\n",
       "    <tr>\n",
       "      <th>0</th>\n",
       "      <td>0</td>\n",
       "      <td>0</td>\n",
       "      <td>0</td>\n",
       "    </tr>\n",
       "    <tr>\n",
       "      <th>1</th>\n",
       "      <td>0</td>\n",
       "      <td>1</td>\n",
       "      <td>2</td>\n",
       "    </tr>\n",
       "    <tr>\n",
       "      <th>2</th>\n",
       "      <td>0</td>\n",
       "      <td>2</td>\n",
       "      <td>1</td>\n",
       "    </tr>\n",
       "  </tbody>\n",
       "</table>\n",
       "</div>"
      ],
      "text/plain": [
       "     0  1  2\n",
       "i\\j         \n",
       "0    0  0  0\n",
       "1    0  1  2\n",
       "2    0  2  1"
      ]
     },
     "metadata": {},
     "output_type": "display_data"
    }
   ],
   "source": [
    "n = 3\n",
    "table_dict = mult_table_integers_modulo(n)\n",
    "\n",
    "df = pd.DataFrame([[table_dict[(i, j)] for j in range(n)] for i in range(n)],\n",
    "                  index=[f\"{i}\" for i in range(n)],\n",
    "                  columns=[f\"{j}\" for j in range(n)])\n",
    "\n",
    "df.index.name = \"i\\\\j\"\n",
    "\n",
    "display(df)"
   ]
  },
  {
   "cell_type": "markdown",
   "id": "85c5ca53-a015-4b84-97fe-5b6276f635fe",
   "metadata": {},
   "source": [
    "Solution to b)"
   ]
  },
  {
   "cell_type": "code",
   "execution_count": 9,
   "id": "f086280d-9c78-4dd3-913f-105546ccb8a7",
   "metadata": {},
   "outputs": [
    {
     "data": {
      "text/html": [
       "<div>\n",
       "<style scoped>\n",
       "    .dataframe tbody tr th:only-of-type {\n",
       "        vertical-align: middle;\n",
       "    }\n",
       "\n",
       "    .dataframe tbody tr th {\n",
       "        vertical-align: top;\n",
       "    }\n",
       "\n",
       "    .dataframe thead th {\n",
       "        text-align: right;\n",
       "    }\n",
       "</style>\n",
       "<table border=\"1\" class=\"dataframe\">\n",
       "  <thead>\n",
       "    <tr style=\"text-align: right;\">\n",
       "      <th></th>\n",
       "      <th>0</th>\n",
       "      <th>1</th>\n",
       "      <th>2</th>\n",
       "      <th>3</th>\n",
       "      <th>4</th>\n",
       "      <th>5</th>\n",
       "    </tr>\n",
       "    <tr>\n",
       "      <th>i\\j</th>\n",
       "      <th></th>\n",
       "      <th></th>\n",
       "      <th></th>\n",
       "      <th></th>\n",
       "      <th></th>\n",
       "      <th></th>\n",
       "    </tr>\n",
       "  </thead>\n",
       "  <tbody>\n",
       "    <tr>\n",
       "      <th>0</th>\n",
       "      <td>0</td>\n",
       "      <td>1</td>\n",
       "      <td>2</td>\n",
       "      <td>3</td>\n",
       "      <td>4</td>\n",
       "      <td>5</td>\n",
       "    </tr>\n",
       "    <tr>\n",
       "      <th>1</th>\n",
       "      <td>1</td>\n",
       "      <td>2</td>\n",
       "      <td>3</td>\n",
       "      <td>4</td>\n",
       "      <td>5</td>\n",
       "      <td>0</td>\n",
       "    </tr>\n",
       "    <tr>\n",
       "      <th>2</th>\n",
       "      <td>2</td>\n",
       "      <td>3</td>\n",
       "      <td>4</td>\n",
       "      <td>5</td>\n",
       "      <td>0</td>\n",
       "      <td>1</td>\n",
       "    </tr>\n",
       "    <tr>\n",
       "      <th>3</th>\n",
       "      <td>3</td>\n",
       "      <td>4</td>\n",
       "      <td>5</td>\n",
       "      <td>0</td>\n",
       "      <td>1</td>\n",
       "      <td>2</td>\n",
       "    </tr>\n",
       "    <tr>\n",
       "      <th>4</th>\n",
       "      <td>4</td>\n",
       "      <td>5</td>\n",
       "      <td>0</td>\n",
       "      <td>1</td>\n",
       "      <td>2</td>\n",
       "      <td>3</td>\n",
       "    </tr>\n",
       "    <tr>\n",
       "      <th>5</th>\n",
       "      <td>5</td>\n",
       "      <td>0</td>\n",
       "      <td>1</td>\n",
       "      <td>2</td>\n",
       "      <td>3</td>\n",
       "      <td>4</td>\n",
       "    </tr>\n",
       "  </tbody>\n",
       "</table>\n",
       "</div>"
      ],
      "text/plain": [
       "     0  1  2  3  4  5\n",
       "i\\j                  \n",
       "0    0  1  2  3  4  5\n",
       "1    1  2  3  4  5  0\n",
       "2    2  3  4  5  0  1\n",
       "3    3  4  5  0  1  2\n",
       "4    4  5  0  1  2  3\n",
       "5    5  0  1  2  3  4"
      ]
     },
     "metadata": {},
     "output_type": "display_data"
    },
    {
     "data": {
      "text/html": [
       "<div>\n",
       "<style scoped>\n",
       "    .dataframe tbody tr th:only-of-type {\n",
       "        vertical-align: middle;\n",
       "    }\n",
       "\n",
       "    .dataframe tbody tr th {\n",
       "        vertical-align: top;\n",
       "    }\n",
       "\n",
       "    .dataframe thead th {\n",
       "        text-align: right;\n",
       "    }\n",
       "</style>\n",
       "<table border=\"1\" class=\"dataframe\">\n",
       "  <thead>\n",
       "    <tr style=\"text-align: right;\">\n",
       "      <th></th>\n",
       "      <th>0</th>\n",
       "      <th>1</th>\n",
       "      <th>2</th>\n",
       "      <th>3</th>\n",
       "      <th>4</th>\n",
       "      <th>5</th>\n",
       "    </tr>\n",
       "    <tr>\n",
       "      <th>i\\j</th>\n",
       "      <th></th>\n",
       "      <th></th>\n",
       "      <th></th>\n",
       "      <th></th>\n",
       "      <th></th>\n",
       "      <th></th>\n",
       "    </tr>\n",
       "  </thead>\n",
       "  <tbody>\n",
       "    <tr>\n",
       "      <th>0</th>\n",
       "      <td>0</td>\n",
       "      <td>0</td>\n",
       "      <td>0</td>\n",
       "      <td>0</td>\n",
       "      <td>0</td>\n",
       "      <td>0</td>\n",
       "    </tr>\n",
       "    <tr>\n",
       "      <th>1</th>\n",
       "      <td>0</td>\n",
       "      <td>1</td>\n",
       "      <td>2</td>\n",
       "      <td>3</td>\n",
       "      <td>4</td>\n",
       "      <td>5</td>\n",
       "    </tr>\n",
       "    <tr>\n",
       "      <th>2</th>\n",
       "      <td>0</td>\n",
       "      <td>2</td>\n",
       "      <td>4</td>\n",
       "      <td>0</td>\n",
       "      <td>2</td>\n",
       "      <td>4</td>\n",
       "    </tr>\n",
       "    <tr>\n",
       "      <th>3</th>\n",
       "      <td>0</td>\n",
       "      <td>3</td>\n",
       "      <td>0</td>\n",
       "      <td>3</td>\n",
       "      <td>0</td>\n",
       "      <td>3</td>\n",
       "    </tr>\n",
       "    <tr>\n",
       "      <th>4</th>\n",
       "      <td>0</td>\n",
       "      <td>4</td>\n",
       "      <td>2</td>\n",
       "      <td>0</td>\n",
       "      <td>4</td>\n",
       "      <td>2</td>\n",
       "    </tr>\n",
       "    <tr>\n",
       "      <th>5</th>\n",
       "      <td>0</td>\n",
       "      <td>5</td>\n",
       "      <td>4</td>\n",
       "      <td>3</td>\n",
       "      <td>2</td>\n",
       "      <td>1</td>\n",
       "    </tr>\n",
       "  </tbody>\n",
       "</table>\n",
       "</div>"
      ],
      "text/plain": [
       "     0  1  2  3  4  5\n",
       "i\\j                  \n",
       "0    0  0  0  0  0  0\n",
       "1    0  1  2  3  4  5\n",
       "2    0  2  4  0  2  4\n",
       "3    0  3  0  3  0  3\n",
       "4    0  4  2  0  4  2\n",
       "5    0  5  4  3  2  1"
      ]
     },
     "metadata": {},
     "output_type": "display_data"
    }
   ],
   "source": [
    "n = 6\n",
    "table_dict = sum_table_integers_modulo(n)\n",
    "\n",
    "df = pd.DataFrame([[table_dict[(i, j)] for j in range(n)] for i in range(n)],\n",
    "                  index=[f\"{i}\" for i in range(n)],\n",
    "                  columns=[f\"{j}\" for j in range(n)])\n",
    "\n",
    "df.index.name = \"i\\\\j\"\n",
    "\n",
    "display(df)\n",
    "table_dict = mult_table_integers_modulo(n)\n",
    "\n",
    "df = pd.DataFrame([[table_dict[(i, j)] for j in range(n)] for i in range(n)],\n",
    "                  index=[f\"{i}\" for i in range(n)],\n",
    "                  columns=[f\"{j}\" for j in range(n)])\n",
    "\n",
    "df.index.name = \"i\\\\j\"\n",
    "\n",
    "display(df)"
   ]
  },
  {
   "cell_type": "markdown",
   "id": "25cc1955-0e31-413b-b0d3-9555886a5ee1",
   "metadata": {},
   "source": [
    "Now we recycle the extended_gcd function to create a function that first checks whether an element is a unit and then creates the multiplication table."
   ]
  },
  {
   "cell_type": "code",
   "execution_count": 12,
   "id": "f4d18b24-ab94-4b45-a514-7c2ad856c008",
   "metadata": {},
   "outputs": [],
   "source": [
    "def table_group_of_units(n):\n",
    "\n",
    "    units = []\n",
    "    for i in range(1, n):\n",
    "        if extended_gcd(i, n)[0] == 1:\n",
    "            units.append(i)\n",
    "\n",
    "    table = {(a, b): (a * b) % n for a in units for b in units}\n",
    "\n",
    "     # Display using pandas DataFrame\n",
    "    df = pd.DataFrame([[table[(a, b)] for b in units] for a in units],\n",
    "                      index=[f\"{a}\" for a in units],\n",
    "                      columns=[f\"{b}\" for b in units])\n",
    "\n",
    "    df.index.name = \"×\"\n",
    "    return df"
   ]
  },
  {
   "cell_type": "markdown",
   "id": "04d39ecb-ade8-481f-b539-c13062575037",
   "metadata": {},
   "source": [
    "Solution to c)"
   ]
  },
  {
   "cell_type": "code",
   "execution_count": 13,
   "id": "83a4d00f-b5bc-4252-a0ff-b138c0e7fcd4",
   "metadata": {},
   "outputs": [
    {
     "data": {
      "text/html": [
       "<div>\n",
       "<style scoped>\n",
       "    .dataframe tbody tr th:only-of-type {\n",
       "        vertical-align: middle;\n",
       "    }\n",
       "\n",
       "    .dataframe tbody tr th {\n",
       "        vertical-align: top;\n",
       "    }\n",
       "\n",
       "    .dataframe thead th {\n",
       "        text-align: right;\n",
       "    }\n",
       "</style>\n",
       "<table border=\"1\" class=\"dataframe\">\n",
       "  <thead>\n",
       "    <tr style=\"text-align: right;\">\n",
       "      <th></th>\n",
       "      <th>1</th>\n",
       "      <th>2</th>\n",
       "      <th>4</th>\n",
       "      <th>5</th>\n",
       "      <th>7</th>\n",
       "      <th>8</th>\n",
       "    </tr>\n",
       "    <tr>\n",
       "      <th>×</th>\n",
       "      <th></th>\n",
       "      <th></th>\n",
       "      <th></th>\n",
       "      <th></th>\n",
       "      <th></th>\n",
       "      <th></th>\n",
       "    </tr>\n",
       "  </thead>\n",
       "  <tbody>\n",
       "    <tr>\n",
       "      <th>1</th>\n",
       "      <td>1</td>\n",
       "      <td>2</td>\n",
       "      <td>4</td>\n",
       "      <td>5</td>\n",
       "      <td>7</td>\n",
       "      <td>8</td>\n",
       "    </tr>\n",
       "    <tr>\n",
       "      <th>2</th>\n",
       "      <td>2</td>\n",
       "      <td>4</td>\n",
       "      <td>8</td>\n",
       "      <td>1</td>\n",
       "      <td>5</td>\n",
       "      <td>7</td>\n",
       "    </tr>\n",
       "    <tr>\n",
       "      <th>4</th>\n",
       "      <td>4</td>\n",
       "      <td>8</td>\n",
       "      <td>7</td>\n",
       "      <td>2</td>\n",
       "      <td>1</td>\n",
       "      <td>5</td>\n",
       "    </tr>\n",
       "    <tr>\n",
       "      <th>5</th>\n",
       "      <td>5</td>\n",
       "      <td>1</td>\n",
       "      <td>2</td>\n",
       "      <td>7</td>\n",
       "      <td>8</td>\n",
       "      <td>4</td>\n",
       "    </tr>\n",
       "    <tr>\n",
       "      <th>7</th>\n",
       "      <td>7</td>\n",
       "      <td>5</td>\n",
       "      <td>1</td>\n",
       "      <td>8</td>\n",
       "      <td>4</td>\n",
       "      <td>2</td>\n",
       "    </tr>\n",
       "    <tr>\n",
       "      <th>8</th>\n",
       "      <td>8</td>\n",
       "      <td>7</td>\n",
       "      <td>5</td>\n",
       "      <td>4</td>\n",
       "      <td>2</td>\n",
       "      <td>1</td>\n",
       "    </tr>\n",
       "  </tbody>\n",
       "</table>\n",
       "</div>"
      ],
      "text/plain": [
       "   1  2  4  5  7  8\n",
       "×                  \n",
       "1  1  2  4  5  7  8\n",
       "2  2  4  8  1  5  7\n",
       "4  4  8  7  2  1  5\n",
       "5  5  1  2  7  8  4\n",
       "7  7  5  1  8  4  2\n",
       "8  8  7  5  4  2  1"
      ]
     },
     "metadata": {},
     "output_type": "display_data"
    }
   ],
   "source": [
    "display(table_group_of_units(9))"
   ]
  },
  {
   "cell_type": "markdown",
   "id": "266326c8-70f2-484d-ae4b-2900b7e90c0f",
   "metadata": {},
   "source": [
    "Solution to d)"
   ]
  },
  {
   "cell_type": "code",
   "execution_count": 15,
   "id": "a2e70c6f-7560-422f-8e56-2cb2d2402e95",
   "metadata": {},
   "outputs": [
    {
     "data": {
      "text/html": [
       "<div>\n",
       "<style scoped>\n",
       "    .dataframe tbody tr th:only-of-type {\n",
       "        vertical-align: middle;\n",
       "    }\n",
       "\n",
       "    .dataframe tbody tr th {\n",
       "        vertical-align: top;\n",
       "    }\n",
       "\n",
       "    .dataframe thead th {\n",
       "        text-align: right;\n",
       "    }\n",
       "</style>\n",
       "<table border=\"1\" class=\"dataframe\">\n",
       "  <thead>\n",
       "    <tr style=\"text-align: right;\">\n",
       "      <th></th>\n",
       "      <th>1</th>\n",
       "      <th>3</th>\n",
       "      <th>5</th>\n",
       "      <th>7</th>\n",
       "      <th>9</th>\n",
       "      <th>11</th>\n",
       "      <th>13</th>\n",
       "      <th>15</th>\n",
       "    </tr>\n",
       "    <tr>\n",
       "      <th>×</th>\n",
       "      <th></th>\n",
       "      <th></th>\n",
       "      <th></th>\n",
       "      <th></th>\n",
       "      <th></th>\n",
       "      <th></th>\n",
       "      <th></th>\n",
       "      <th></th>\n",
       "    </tr>\n",
       "  </thead>\n",
       "  <tbody>\n",
       "    <tr>\n",
       "      <th>1</th>\n",
       "      <td>1</td>\n",
       "      <td>3</td>\n",
       "      <td>5</td>\n",
       "      <td>7</td>\n",
       "      <td>9</td>\n",
       "      <td>11</td>\n",
       "      <td>13</td>\n",
       "      <td>15</td>\n",
       "    </tr>\n",
       "    <tr>\n",
       "      <th>3</th>\n",
       "      <td>3</td>\n",
       "      <td>9</td>\n",
       "      <td>15</td>\n",
       "      <td>5</td>\n",
       "      <td>11</td>\n",
       "      <td>1</td>\n",
       "      <td>7</td>\n",
       "      <td>13</td>\n",
       "    </tr>\n",
       "    <tr>\n",
       "      <th>5</th>\n",
       "      <td>5</td>\n",
       "      <td>15</td>\n",
       "      <td>9</td>\n",
       "      <td>3</td>\n",
       "      <td>13</td>\n",
       "      <td>7</td>\n",
       "      <td>1</td>\n",
       "      <td>11</td>\n",
       "    </tr>\n",
       "    <tr>\n",
       "      <th>7</th>\n",
       "      <td>7</td>\n",
       "      <td>5</td>\n",
       "      <td>3</td>\n",
       "      <td>1</td>\n",
       "      <td>15</td>\n",
       "      <td>13</td>\n",
       "      <td>11</td>\n",
       "      <td>9</td>\n",
       "    </tr>\n",
       "    <tr>\n",
       "      <th>9</th>\n",
       "      <td>9</td>\n",
       "      <td>11</td>\n",
       "      <td>13</td>\n",
       "      <td>15</td>\n",
       "      <td>1</td>\n",
       "      <td>3</td>\n",
       "      <td>5</td>\n",
       "      <td>7</td>\n",
       "    </tr>\n",
       "    <tr>\n",
       "      <th>11</th>\n",
       "      <td>11</td>\n",
       "      <td>1</td>\n",
       "      <td>7</td>\n",
       "      <td>13</td>\n",
       "      <td>3</td>\n",
       "      <td>9</td>\n",
       "      <td>15</td>\n",
       "      <td>5</td>\n",
       "    </tr>\n",
       "    <tr>\n",
       "      <th>13</th>\n",
       "      <td>13</td>\n",
       "      <td>7</td>\n",
       "      <td>1</td>\n",
       "      <td>11</td>\n",
       "      <td>5</td>\n",
       "      <td>15</td>\n",
       "      <td>9</td>\n",
       "      <td>3</td>\n",
       "    </tr>\n",
       "    <tr>\n",
       "      <th>15</th>\n",
       "      <td>15</td>\n",
       "      <td>13</td>\n",
       "      <td>11</td>\n",
       "      <td>9</td>\n",
       "      <td>7</td>\n",
       "      <td>5</td>\n",
       "      <td>3</td>\n",
       "      <td>1</td>\n",
       "    </tr>\n",
       "  </tbody>\n",
       "</table>\n",
       "</div>"
      ],
      "text/plain": [
       "     1   3   5   7   9  11  13  15\n",
       "×                                 \n",
       "1    1   3   5   7   9  11  13  15\n",
       "3    3   9  15   5  11   1   7  13\n",
       "5    5  15   9   3  13   7   1  11\n",
       "7    7   5   3   1  15  13  11   9\n",
       "9    9  11  13  15   1   3   5   7\n",
       "11  11   1   7  13   3   9  15   5\n",
       "13  13   7   1  11   5  15   9   3\n",
       "15  15  13  11   9   7   5   3   1"
      ]
     },
     "metadata": {},
     "output_type": "display_data"
    }
   ],
   "source": [
    "display(table_group_of_units(16))"
   ]
  },
  {
   "cell_type": "markdown",
   "id": "4878d575-a3b7-4f84-913c-3d1d7a7ed319",
   "metadata": {},
   "source": [
    "We implement the algorithm to compute powers module an integer described in exercise **1.25**"
   ]
  },
  {
   "cell_type": "code",
   "execution_count": 16,
   "id": "4603caf5-e282-4f28-9048-5df3df323137",
   "metadata": {},
   "outputs": [],
   "source": [
    "def square_and_multiply_mod(N, g, A):\n",
    "    a = g\n",
    "    b = 1\n",
    "    while A > 0:\n",
    "        if A % 2 == 1:\n",
    "            b = (b * a) % N\n",
    "        a = (a ** 2) % N\n",
    "        A = A // 2\n",
    "    return b"
   ]
  },
  {
   "cell_type": "markdown",
   "id": "44ee2cc7-8ea0-4f33-ba0a-bf858a3b1bae",
   "metadata": {},
   "source": [
    "### Exercise 1.26\n",
    "\n",
    "Use the square-and-multiply algorithm described in Sect. 1.3.2, or the more efficient version in Exercise 1.25, to compute the following powers:\n",
    "\n",
    "- **(a)** $17^{183} \\mod{256}$\n",
    "- **(b)** $2^{477} \\mod{1000}$\n",
    "- **(c)** $11^{507} \\mod{1237}$"
   ]
  },
  {
   "cell_type": "code",
   "execution_count": 17,
   "id": "acf716ef-f963-43ff-acf2-9b325fd35caa",
   "metadata": {},
   "outputs": [
    {
     "name": "stdout",
     "output_type": "stream",
     "text": [
      "113\n",
      "272\n",
      "322\n"
     ]
    }
   ],
   "source": [
    "print(square_and_multiply_mod(256, 17, 183))  # part (a)\n",
    "print(square_and_multiply_mod(1000, 2, 477))  # part (b)\n",
    "print(square_and_multiply_mod(1237, 11, 507)) # part (c)"
   ]
  },
  {
   "cell_type": "code",
   "execution_count": null,
   "id": "fb73b115-c848-4102-9a0e-a86671a855ef",
   "metadata": {},
   "outputs": [],
   "source": []
  }
 ],
 "metadata": {
  "kernelspec": {
   "display_name": "Python 3 (ipykernel)",
   "language": "python",
   "name": "python3"
  },
  "language_info": {
   "codemirror_mode": {
    "name": "ipython",
    "version": 3
   },
   "file_extension": ".py",
   "mimetype": "text/x-python",
   "name": "python",
   "nbconvert_exporter": "python",
   "pygments_lexer": "ipython3",
   "version": "3.10.12"
  }
 },
 "nbformat": 4,
 "nbformat_minor": 5
}
