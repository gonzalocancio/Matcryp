{
 "cells": [
  {
   "cell_type": "markdown",
   "id": "f6f65873-53ef-46c6-be6f-09ea017a9757",
   "metadata": {},
   "source": [
    "In this jupyter notebook we will solve all the exercises (at least those that benefit from some coding and that I am capable of solving) from chapter 1 of the book: An Introduction to Mathematical Cryptography"
   ]
  },
  {
   "cell_type": "markdown",
   "id": "fb03cce4-1892-405c-a205-478e4b4845e9",
   "metadata": {},
   "source": [
    "We will benefit from creating a list containinjg all the letters of the alphabet"
   ]
  },
  {
   "cell_type": "code",
   "execution_count": 1,
   "id": "54f9e503-0cf6-47a1-b33f-f691775d80b5",
   "metadata": {},
   "outputs": [
    {
     "name": "stdout",
     "output_type": "stream",
     "text": [
      "['A', 'B', 'C', 'D', 'E', 'F', 'G', 'H', 'I', 'J', 'K', 'L', 'M', 'N', 'O', 'P', 'Q', 'R', 'S', 'T', 'U', 'V', 'W', 'X', 'Y', 'Z']\n"
     ]
    }
   ],
   "source": [
    "import string\n",
    "\n",
    "alphabet = list(string.ascii_uppercase)\n",
    "print(capital_letters)\n"
   ]
  },
  {
   "cell_type": "code",
   "execution_count": null,
   "id": "ceedc0da-f160-46ae-9f2f-92d435bf41e0",
   "metadata": {},
   "outputs": [],
   "source": []
  }
 ],
 "metadata": {
  "kernelspec": {
   "display_name": "Python 3 (ipykernel)",
   "language": "python",
   "name": "python3"
  },
  "language_info": {
   "codemirror_mode": {
    "name": "ipython",
    "version": 3
   },
   "file_extension": ".py",
   "mimetype": "text/x-python",
   "name": "python",
   "nbconvert_exporter": "python",
   "pygments_lexer": "ipython3",
   "version": "3.10.12"
  }
 },
 "nbformat": 4,
 "nbformat_minor": 5
}
