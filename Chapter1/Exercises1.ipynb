{
 "cells": [
  {
   "cell_type": "markdown",
   "id": "f6f65873-53ef-46c6-be6f-09ea017a9757",
   "metadata": {},
   "source": [
    "### In this jupyter notebook we will solve all the exercises (at least those that benefit from some coding and that I am capable of solving) from chapter 1 of the book: An Introduction to Mathematical Cryptography"
   ]
  },
  {
   "cell_type": "markdown",
   "id": "e47de757-1673-4437-bafc-ed5e1b8c5abe",
   "metadata": {},
   "source": [
    "#### 1.1. Build a cipher wheel as illustrated in Fig.1.1, but with an inner wheel that rotates, and use it to complete the following tasks. \n",
    "####  (a) Encrypt the following plaintext using a rotation of 11 clockwise.\n",
    " #### “A page of history is worth a volume of logic.”\n",
    " #### (b) Decrypt the following message, which was encrypted with a rotation of 7 clock\n",
    "#### wise.AOLYLHYLUVZLJYLAZILAALYAOHUAOLZLJYLAZAOHALCLYFIVKFNBLZZLZ\n",
    "####  (c) Decrypt the following message, which was encrypted by rotating 1 clockwise\n",
    " #### for the first letter, then 2 clockwise for the second letter, etc.\n",
    "####  XJHRFTNZHMZGAHIUETXZJNBWNUTRHEPOMDNBJMAUGORFAOIZOCC\n"
   ]
  },
  {
   "cell_type": "raw",
   "id": "04b87dee-97b0-4c04-8c93-b8cec9d62146",
   "metadata": {},
   "source": [
    "We create a python class called cypherwheel which is initialised with an integer which determines the shift."
   ]
  },
  {
   "cell_type": "code",
   "execution_count": 2,
   "id": "54f9e503-0cf6-47a1-b33f-f691775d80b5",
   "metadata": {},
   "outputs": [],
   "source": [
    "class CypherWheel:\n",
    "    def __init__(self, shift: int):\n",
    "        self.shift = shift % 26  # ensure shift is within 0-25\n",
    "\n",
    "    def encrypt(self, text: str) -> str:\n",
    "        return self._shift_text(text, self.shift)\n",
    "\n",
    "    def decrypt(self, text: str) -> str:\n",
    "        return self._shift_text(text, -self.shift)\n",
    "\n",
    "    def _shift_text(self, text: str, shift: int) -> str:\n",
    "        result = []\n",
    "        for char in text:\n",
    "            if char.isalpha():\n",
    "                base = ord('A') if char.isupper() else ord('a')\n",
    "                # Shift character and wrap around using modulo 26\n",
    "                new_char = chr((ord(char) - base + shift) % 26 + base)\n",
    "                result.append(new_char)\n",
    "            else:\n",
    "                # Leave non-alphabetic characters unchanged\n",
    "                result.append(char)\n",
    "        return ''.join(result)\n"
   ]
  },
  {
   "cell_type": "markdown",
   "id": "fe8537dc-b555-4d79-bd69-9682f469108a",
   "metadata": {},
   "source": [
    "Solution part a)"
   ]
  },
  {
   "cell_type": "code",
   "execution_count": 3,
   "id": "810aaf2f-3c6d-4a2f-803c-6647d6534214",
   "metadata": {},
   "outputs": [
    {
     "data": {
      "text/plain": [
       "'L alrp zq stdezcj td hzces l gzwfxp zq wzrtn.'"
      ]
     },
     "execution_count": 3,
     "metadata": {},
     "output_type": "execute_result"
    }
   ],
   "source": [
    "wheel11 = CypherWheel(11)\n",
    "wheel11.encrypt(\"A page of history is worth a volume of logic.\")"
   ]
  },
  {
   "cell_type": "markdown",
   "id": "dfb8b587-c96f-4830-96c4-c43883b3c7d0",
   "metadata": {},
   "source": [
    "Solution part b)"
   ]
  },
  {
   "cell_type": "code",
   "execution_count": 4,
   "id": "f2aa6251-f931-4fcb-a114-eaf34499f73c",
   "metadata": {},
   "outputs": [
    {
     "data": {
      "text/plain": [
       "'THEREARENOSECRETSBETTERTHANTHESECRETSTHATEVERYBODYGUESSES'"
      ]
     },
     "execution_count": 4,
     "metadata": {},
     "output_type": "execute_result"
    }
   ],
   "source": [
    "wheel7 = CypherWheel(7)\n",
    "wheel7.decrypt(\"AOLYLHYLUVZLJYLAZILAALYAOHUAOLZLJYLAZAOHALCLYFIVKFNBLZZLZ\")"
   ]
  },
  {
   "cell_type": "markdown",
   "id": "b803b64e-09ae-4804-8e31-cc03ef40d09c",
   "metadata": {},
   "source": [
    "Solution to part c)"
   ]
  },
  {
   "cell_type": "code",
   "execution_count": 6,
   "id": "15dd8b8e-70d0-4ffd-910b-2b5b71174e35",
   "metadata": {},
   "outputs": [
    {
     "name": "stdout",
     "output_type": "stream",
     "text": [
      "WHENANGRYCOUNTTENBEFOREYOUSPEAKIFVERYANGRYANHUNDRED\n"
     ]
    }
   ],
   "source": [
    "# The encrypted message\n",
    "ciphertext = \"XJHRFTNZHMZGAHIUETXZJNBWNUTRHEPOMDNBJMAUGORFAOIZOCC\"\n",
    "\n",
    "# Decrypt using variable shifts\n",
    "plaintext = \"\"\n",
    "for i, c in enumerate(ciphertext):\n",
    "    wheel = CypherWheel(i + 1)  # shift used in encryption\n",
    "    plaintext += wheel.decrypt(c)\n",
    "\n",
    "print(plaintext)"
   ]
  },
  {
   "cell_type": "markdown",
   "id": "6278e62c-4b3e-482a-9f0e-633ef2fd0962",
   "metadata": {},
   "source": [
    "####  1.2. Decrypt each of the following Caesar encryptions by trying the various possible shifts until you obtain readable text.\n",
    " ##### (a) LWKLQNWKDWLVKDOOQHYHUVHHDELOOERDUGORYHOBDVDWUHH\n",
    " ##### (b) UXENRBWXCUXENFQRLQJUCNABFQNWRCJUCNAJCRXWORWMB\n",
    " ##### (c) BGUTBMBGZTFHNLXMKTIPBMAVAXXLXTEPTRLEXTOXKHHFYHKMAXFHNLX"
   ]
  },
  {
   "cell_type": "markdown",
   "id": "7c7e7df9-b6d8-4038-8450-dfa5ce01c2f6",
   "metadata": {},
   "source": [
    "We solve only the first one."
   ]
  },
  {
   "cell_type": "code",
   "execution_count": 8,
   "id": "efdf3c03-eadc-4b7d-b8d8-77b2f8de7f63",
   "metadata": {},
   "outputs": [
    {
     "name": "stdout",
     "output_type": "stream",
     "text": [
      "KVJKPMVJCVKUJCNNPGXGTUGGCDKNNDQCTFNQXGNACUCVTGG\n",
      "JUIJOLUIBUJTIBMMOFWFSTFFBCJMMCPBSEMPWFMZBTBUSFF\n",
      "ITHINKTHATISHALLNEVERSEEABILLBOARDLOVELYASATREE\n",
      "HSGHMJSGZSHRGZKKMDUDQRDDZAHKKANZQCKNUDKXZRZSQDD\n",
      "GRFGLIRFYRGQFYJJLCTCPQCCYZGJJZMYPBJMTCJWYQYRPCC\n",
      "FQEFKHQEXQFPEXIIKBSBOPBBXYFIIYLXOAILSBIVXPXQOBB\n",
      "EPDEJGPDWPEODWHHJARANOAAWXEHHXKWNZHKRAHUWOWPNAA\n",
      "DOCDIFOCVODNCVGGIZQZMNZZVWDGGWJVMYGJQZGTVNVOMZZ\n",
      "CNBCHENBUNCMBUFFHYPYLMYYUVCFFVIULXFIPYFSUMUNLYY\n",
      "BMABGDMATMBLATEEGXOXKLXXTUBEEUHTKWEHOXERTLTMKXX\n",
      "ALZAFCLZSLAKZSDDFWNWJKWWSTADDTGSJVDGNWDQSKSLJWW\n",
      "ZKYZEBKYRKZJYRCCEVMVIJVVRSZCCSFRIUCFMVCPRJRKIVV\n",
      "YJXYDAJXQJYIXQBBDULUHIUUQRYBBREQHTBELUBOQIQJHUU\n",
      "XIWXCZIWPIXHWPAACTKTGHTTPQXAAQDPGSADKTANPHPIGTT\n",
      "WHVWBYHVOHWGVOZZBSJSFGSSOPWZZPCOFRZCJSZMOGOHFSS\n",
      "VGUVAXGUNGVFUNYYARIREFRRNOVYYOBNEQYBIRYLNFNGERR\n",
      "UFTUZWFTMFUETMXXZQHQDEQQMNUXXNAMDPXAHQXKMEMFDQQ\n",
      "TESTYVESLETDSLWWYPGPCDPPLMTWWMZLCOWZGPWJLDLECPP\n",
      "SDRSXUDRKDSCRKVVXOFOBCOOKLSVVLYKBNVYFOVIKCKDBOO\n",
      "RCQRWTCQJCRBQJUUWNENABNNJKRUUKXJAMUXENUHJBJCANN\n",
      "QBPQVSBPIBQAPITTVMDMZAMMIJQTTJWIZLTWDMTGIAIBZMM\n",
      "PAOPURAOHAPZOHSSULCLYZLLHIPSSIVHYKSVCLSFHZHAYLL\n",
      "OZNOTQZNGZOYNGRRTKBKXYKKGHORRHUGXJRUBKREGYGZXKK\n",
      "NYMNSPYMFYNXMFQQSJAJWXJJFGNQQGTFWIQTAJQDFXFYWJJ\n",
      "MXLMROXLEXMWLEPPRIZIVWIIEFMPPFSEVHPSZIPCEWEXVII\n",
      "LWKLQNWKDWLVKDOOQHYHUVHHDELOOERDUGORYHOBDVDWUHH\n"
     ]
    }
   ],
   "source": [
    "for i in range(26):\n",
    "    wheel = CypherWheel(i + 1)\n",
    "    print(wheel.decrypt(\"LWKLQNWKDWLVKDOOQHYHUVHHDELOOERDUGORYHOBDVDWUHH\"))"
   ]
  },
  {
   "cell_type": "markdown",
   "id": "9a47ab97-5ea3-41d9-a943-8884346df744",
   "metadata": {},
   "source": [
    "by inspection we see that the answer is the third element in the printed list"
   ]
  },
  {
   "cell_type": "code",
   "execution_count": 9,
   "id": "44cda193-618b-46dd-9b93-4495969f047c",
   "metadata": {},
   "outputs": [
    {
     "data": {
      "text/plain": [
       "'ITHINKTHATISHALLNEVERSEEABILLBOARDLOVELYASATREE'"
      ]
     },
     "execution_count": 9,
     "metadata": {},
     "output_type": "execute_result"
    }
   ],
   "source": [
    "wheel = CypherWheel(3)\n",
    "wheel.decrypt(\"LWKLQNWKDWLVKDOOQHYHUVHHDELOOERDUGORYHOBDVDWUHH\")"
   ]
  },
  {
   "cell_type": "markdown",
   "id": "0e23b548-0ce9-4501-988f-752f0d8ff744",
   "metadata": {},
   "source": [
    " #### 1.3. For this exercise, use the simple substitution table given in Table 1.11.\n",
    " ##### (a) Encrypt the plaintext message: The gold is hidden in the garden.\n",
    " ##### (b) Make a decryption table, that is, make a table in which the ciphertext alphabet is in order from A to Z and the plaintext alphabet is mixed up.\n",
    " ##### (c) Use your decryption table from (b) to decrypt the following message: IBXLX JVXIZ SLLDE VAQLL DEVAU QLB"
   ]
  },
  {
   "cell_type": "markdown",
   "id": "7e036ae6-a2c7-4879-b098-bc88c559391e",
   "metadata": {},
   "source": [
    "We solve the problem using two python dictionaries, one for encryption, which plays the rolw of the encryption table, and one for decryption, which plays the role of the decryption table that part b) asks to create."
   ]
  },
  {
   "cell_type": "code",
   "execution_count": 13,
   "id": "0218aecb-6245-471b-a653-17312bbf254c",
   "metadata": {},
   "outputs": [
    {
     "name": "stdout",
     "output_type": "stream",
     "text": [
      "{'A': 'S', 'B': 'C', 'C': 'J', 'D': 'A', 'E': 'X', 'F': 'U', 'G': 'F', 'H': 'B', 'I': 'Q', 'J': 'K', 'K': 'T', 'L': 'P', 'M': 'R', 'N': 'W', 'O': 'E', 'P': 'Z', 'Q': 'H', 'R': 'V', 'S': 'L', 'T': 'I', 'U': 'G', 'V': 'Y', 'W': 'D', 'X': 'N', 'Y': 'M', 'Z': 'O'}\n",
      "{'S': 'A', 'C': 'B', 'J': 'C', 'A': 'D', 'X': 'E', 'U': 'F', 'F': 'G', 'B': 'H', 'Q': 'I', 'K': 'J', 'T': 'K', 'P': 'L', 'R': 'M', 'W': 'N', 'E': 'O', 'Z': 'P', 'H': 'Q', 'V': 'R', 'L': 'S', 'I': 'T', 'G': 'U', 'Y': 'V', 'D': 'W', 'N': 'X', 'M': 'Y', 'O': 'Z'}\n"
     ]
    }
   ],
   "source": [
    "import string\n",
    "# Define plain and cipher letters in uppercase\n",
    "plain_letters = list(string.ascii_uppercase)\n",
    "cipher_letters = list(\"SCJAXUFBQKTPRWEZHVLIGYDNMO\")\n",
    "\n",
    "# Encryption dictionary: plain -> cipher\n",
    "encrypt_dict = dict(zip(plain_letters, cipher_letters))\n",
    "\n",
    "# Decryption dictionary: cipher -> plain\n",
    "decrypt_dict = {v: k for k, v in encrypt_dict.items()}\n",
    "print(encrypt_dict)\n",
    "print(decrypt_dict)"
   ]
  },
  {
   "cell_type": "markdown",
   "id": "9610f038-48ec-4a9d-9841-0284a0c62517",
   "metadata": {},
   "source": [
    "solution part a)"
   ]
  },
  {
   "cell_type": "code",
   "execution_count": 15,
   "id": "ce6664c8-a0ac-49ce-b4d4-1aaa4d670c23",
   "metadata": {},
   "outputs": [
    {
     "data": {
      "text/plain": [
       "'IBX FEPA QL BQAAXW QW IBX FSVAXW.'"
      ]
     },
     "execution_count": 15,
     "metadata": {},
     "output_type": "execute_result"
    }
   ],
   "source": [
    "# Message to encrypt\n",
    "message = \"The gold is hidden in the garden.\"\n",
    "\n",
    "# Encrypt the message\n",
    "encrypted_message = \"\"\n",
    "for char in message.upper():\n",
    "    if char in encrypt_dict:\n",
    "        encrypted_message += encrypt_dict[char]\n",
    "    else:\n",
    "        encrypted_message += char  # Keep spaces and punctuation\n",
    "encrypted_message"
   ]
  },
  {
   "cell_type": "markdown",
   "id": "73706d0c-c64b-4e96-9399-0defbe311361",
   "metadata": {},
   "source": [
    "solution to part c)"
   ]
  },
  {
   "cell_type": "code",
   "execution_count": 17,
   "id": "760344d5-4044-4be7-bdd3-2b9716aea194",
   "metadata": {},
   "outputs": [
    {
     "data": {
      "text/plain": [
       "'THESE CRETP ASSWO RDISS WORDF ISH'"
      ]
     },
     "execution_count": 17,
     "metadata": {},
     "output_type": "execute_result"
    }
   ],
   "source": [
    "cipher_text = \"IBXLX JVXIZ SLLDE VAQLL DEVAU QLB\"\n",
    "\n",
    "plain_text = \"\"\n",
    "\n",
    "for char in cipher_text:\n",
    "    if char in decrypt_dict:\n",
    "        plain_text += decrypt_dict[char]\n",
    "    else:\n",
    "        plain_text += char\n",
    "\n",
    "plain_text"
   ]
  },
  {
   "cell_type": "markdown",
   "id": "58a2da8f-0278-43d1-b623-59ba933480c9",
   "metadata": {},
   "source": [
    "####  1.4. Each of the following messages has been encrypted using a simple substitution cipher. Decrypt them. For your convenience, we have given you a frequency table and a list of the most common bigrams that appear in the ciphertext. "
   ]
  },
  {
   "cell_type": "markdown",
   "id": "faf1dffb-e955-481d-b883-07cd4f2859b6",
   "metadata": {},
   "source": [
    "We only solve part a)"
   ]
  },
  {
   "cell_type": "markdown",
   "id": "30b2aa71-3bfa-4af4-a9c5-84dca8188b1b",
   "metadata": {},
   "source": [
    " JNRZR BNIGI BJRGZ IZLQR OTDNJ GRIHT USDKR ZZWLG OIBTM NRGJN\n",
    " IJTZJ LZISJ NRSBL QVRSI ORIQT QDEKJ JNRQW GLOFN IJTZX QLFQL\n",
    " WBIMJ ITQXT HHTBL KUHQL JZKMM LZRNT OBIMI EURLW BLQZJ GKBJT\n",
    " QDIQS LWJNR OLGRI EZJGK ZRBGS MJLDG IMNZT OIHRK MOSOT QHIJL\n",
    " QBRJN IJJNT ZFIZL WIZTO MURZM RBTRZ ZKBNN LFRVR GIZFL KUHIM\n",
    " MRIGJ LJNRB GKHRT QJRUU RBJLW JNRZI TULGI EZLUK JRUST QZLUK\n",
    " EURFT JNLKJ JNRXR S"
   ]
  },
  {
   "cell_type": "markdown",
   "id": "bcd1920a-693f-42d8-b570-d7f9e7d1192b",
   "metadata": {},
   "source": [
    "Frequency table: "
   ]
  },
  {
   "cell_type": "code",
   "execution_count": 18,
   "id": "7f0cd10a-a2d9-4b66-9642-ebe907dd6d93",
   "metadata": {},
   "outputs": [],
   "source": [
    "frequency_dict = {\n",
    "    'B': 32,\n",
    "    'R': 28,\n",
    "    'G': 22,\n",
    "    'N': 20,\n",
    "    'A': 16,\n",
    "    'I': 16,\n",
    "    'U': 14,\n",
    "    'K': 13,\n",
    "    'O': 12,\n",
    "    'J': 11,\n",
    "    'L': 10,\n",
    "    'X': 10,\n",
    "    'M': 8,\n",
    "    'F': 8,\n",
    "    'S': 7,\n",
    "    'E': 7,\n",
    "    'Z': 6,\n",
    "    'C': 5,\n",
    "    'T': 3,\n",
    "    'W': 2,\n",
    "    'P': 1,\n",
    "    'V': 1,\n",
    "    'Q': 1\n",
    "}"
   ]
  },
  {
   "cell_type": "markdown",
   "id": "25dde9ef-09cb-42ef-904c-04c6b8f59f06",
   "metadata": {},
   "source": [
    " The most frequent bigrams are:NG and RI (7 times each), BU (6 times), and BR\n",
    " (5 times)."
   ]
  },
  {
   "cell_type": "markdown",
   "id": "dd3923bd-f8da-492c-af1e-753ad8eb0a61",
   "metadata": {},
   "source": [
    "Recall that the most common english letters are e, t, a, o, n in that order. And the most common english bigrams: th, he, an, re, er, in"
   ]
  },
  {
   "cell_type": "code",
   "execution_count": null,
   "id": "799957c7-b4c7-4b6e-865f-aec3b830c06a",
   "metadata": {},
   "outputs": [],
   "source": []
  }
 ],
 "metadata": {
  "kernelspec": {
   "display_name": "Python 3 (ipykernel)",
   "language": "python",
   "name": "python3"
  },
  "language_info": {
   "codemirror_mode": {
    "name": "ipython",
    "version": 3
   },
   "file_extension": ".py",
   "mimetype": "text/x-python",
   "name": "python",
   "nbconvert_exporter": "python",
   "pygments_lexer": "ipython3",
   "version": "3.10.12"
  }
 },
 "nbformat": 4,
 "nbformat_minor": 5
}
